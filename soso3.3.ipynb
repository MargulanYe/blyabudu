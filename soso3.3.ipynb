{
 "cells": [
  {
   "cell_type": "code",
   "execution_count": 32,
   "metadata": {},
   "outputs": [],
   "source": [
    "# 1\n",
    "movies = [\"Ferdinand\",\"Abrora\",\"Cosmo\",\"Pirates\", \"Palante\"]\n",
    "def is_high_imdb(movie):\n",
    "    return movie['imdb'] > 5.5"
   ]
  },
  {
   "cell_type": "code",
   "execution_count": 33,
   "metadata": {},
   "outputs": [],
   "source": [
    "# 2\n",
    "def get_high_imdb_movies(movies_list):\n",
    "    return [movie for movie in movies_list if movie['imdb'] > 5.5]"
   ]
  },
  {
   "cell_type": "code",
   "execution_count": 34,
   "metadata": {},
   "outputs": [],
   "source": [
    "# 3\n",
    "def get_movies_by_category(movies_list, category):\n",
    "    return [movie for movie in movies_list if movie['category'] == category]"
   ]
  },
  {
   "cell_type": "code",
   "execution_count": 35,
   "metadata": {},
   "outputs": [],
   "source": [
    "# 4\n",
    "def average_imdb(movies_list):\n",
    "    if not movies_list:\n",
    "        return 0.0\n",
    "    total = sum(movie['imdb'] for movie in movies_list)\n",
    "    return total / len(movies_list)"
   ]
  },
  {
   "cell_type": "code",
   "execution_count": 36,
   "metadata": {},
   "outputs": [],
   "source": [
    "# 5\n",
    "def category_average(movies_list, category):\n",
    "    category_movies = get_movies_by_category(movies_list, category)\n",
    "    return average_imdb(category_movies)"
   ]
  },
  {
   "cell_type": "code",
   "execution_count": null,
   "metadata": {},
   "outputs": [],
   "source": [
    "print(is_high_imdb(movies[0]))  \n",
    "\n",
    "high_rated = get_high_imdb_movies(movies)\n",
    "print(len(high_rated)) \n",
    "\n",
    "romance_movies = get_movies_by_category(movies, 'Romance')\n",
    "print(len(romance_movies))  \n",
    "\n",
    "print(average_imdb(movies))  \n",
    "\n",
    "print(category_average(movies, 'Romance'))"
   ]
  }
 ],
 "metadata": {
  "kernelspec": {
   "display_name": "Python 3",
   "language": "python",
   "name": "python3"
  },
  "language_info": {
   "codemirror_mode": {
    "name": "ipython",
    "version": 3
   },
   "file_extension": ".py",
   "mimetype": "text/x-python",
   "name": "python",
   "nbconvert_exporter": "python",
   "pygments_lexer": "ipython3",
   "version": "3.11.1"
  }
 },
 "nbformat": 4,
 "nbformat_minor": 2
}
