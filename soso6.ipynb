{
 "cells": [
  {
   "cell_type": "code",
   "execution_count": 2,
   "id": "8d531e2e-30c2-48d6-9d88-f850700ffa21",
   "metadata": {},
   "outputs": [
    {
     "name": "stdout",
     "output_type": "stream",
     "text": [
      "120\n"
     ]
    }
   ],
   "source": [
    "import math\n",
    "\n",
    "numbers = [2, 3, 4, 5]  \n",
    "result = math.prod(numbers)  \n",
    "print(result)  "
   ]
  },
  {
   "cell_type": "code",
   "execution_count": 4,
   "id": "f5702b5f-1789-4937-8ad7-56f63e157286",
   "metadata": {},
   "outputs": [
    {
     "name": "stdin",
     "output_type": "stream",
     "text": [
      " LOLaleke\n"
     ]
    },
    {
     "name": "stdout",
     "output_type": "stream",
     "text": [
      "Big letters 3 Small letters 5\n"
     ]
    }
   ],
   "source": [
    "a=input()\n",
    "big=0\n",
    "small=0\n",
    "for i in range(len(a)):\n",
    "    if (a[i].isupper()):\n",
    "        big+=1\n",
    "    else:\n",
    "        small+=1\n",
    "print(\"Big letters\",big,\"Small letters\",small)\n"
   ]
  },
  {
   "cell_type": "code",
   "execution_count": 6,
   "id": "3afbaaad-1c9a-44f6-be99-b1716fcf104d",
   "metadata": {},
   "outputs": [
    {
     "name": "stdin",
     "output_type": "stream",
     "text": [
      " qazaq\n"
     ]
    },
    {
     "name": "stdout",
     "output_type": "stream",
     "text": [
      "True\n"
     ]
    }
   ],
   "source": [
    "a=input()\n",
    "if (a==a[::-1]):\n",
    "    print(\"True\")\n",
    "else:\n",
    "    print(\"False\")"
   ]
  },
  {
   "cell_type": "code",
   "execution_count": 2,
   "id": "965a57ab-46af-46be-bed0-cb763363a29c",
   "metadata": {},
   "outputs": [
    {
     "name": "stdin",
     "output_type": "stream",
     "text": [
      " 100\n",
      " 600\n"
     ]
    },
    {
     "name": "stdout",
     "output_type": "stream",
     "text": [
      "Square root of 100 after 600 milliseconds is 10.0\n"
     ]
    }
   ],
   "source": [
    "import time\n",
    "import math\n",
    "num = int(input()) \n",
    "delay = int(input()) \n",
    "time.sleep(delay / 1000)\n",
    "result = math.sqrt(num)\n",
    "print(f\"Square root of {num} after {delay} milliseconds is {result}\")\n"
   ]
  },
  {
   "cell_type": "code",
   "execution_count": 4,
   "id": "3f9cadde-8693-4950-8170-9f9c7ef17733",
   "metadata": {},
   "outputs": [
    {
     "name": "stdout",
     "output_type": "stream",
     "text": [
      "True\n"
     ]
    }
   ],
   "source": [
    "t = (1, True, \"Hello\") \n",
    "\n",
    "result = all(t)\n",
    "\n",
    "print(result) \n"
   ]
  },
  {
   "cell_type": "code",
   "execution_count": 8,
   "id": "721515bb-c26d-45ab-a1cd-b6586ca2853f",
   "metadata": {},
   "outputs": [
    {
     "name": "stdout",
     "output_type": "stream",
     "text": [
      "['lab7.1', 'lab7.2']\n"
     ]
    }
   ],
   "source": [
    "import os\n",
    "path=\"/Users/almansurbajdildanov/PycharmProjects/Lab667/LAB7\"\n",
    "all_items = os.listdir(path)\n",
    "print(all_items)"
   ]
  },
  {
   "cell_type": "code",
   "execution_count": 10,
   "id": "27d4f703-dbfb-45d4-9d0e-21312933e230",
   "metadata": {},
   "outputs": [
    {
     "name": "stdout",
     "output_type": "stream",
     "text": [
      "only dir= photos \n"
     ]
    }
   ],
   "source": [
    "import os\n",
    "path=\"/Users/almansurbajdildanov/PycharmProjects/Lab667/LAB7/lab7.1\"\n",
    "allDirs = os.listdir(path)\n",
    "for item in allDirs:\n",
    "    if os.path.isdir(os.path.join(path,item)):\n",
    "        print(f\"only dir= {item}\")\n"
   ]
  },
  {
   "cell_type": "code",
   "execution_count": 20,
   "id": "8f92ebf7-3b58-4c10-ab3e-11430ae4da3a",
   "metadata": {},
   "outputs": [
    {
     "name": "stdout",
     "output_type": "stream",
     "text": [
      "only file= task1.py\n"
     ]
    }
   ],
   "source": [
    "import os\n",
    "path=\"/Users/almansurbajdildanov/PycharmProjects/Lab667/LAB7/lab7.1\"\n",
    "allDirs = os.listdir(path)\n",
    "for item in allDirs:\n",
    "    if  os.path.isfile(os.path.join(path,item)):\n",
    "        print(f\"only file= {item}\")\n"
   ]
  },
  {
   "cell_type": "code",
   "execution_count": 22,
   "id": "2bd20226-71b5-40a8-8445-f009930d972a",
   "metadata": {},
   "outputs": [
    {
     "name": "stdout",
     "output_type": "stream",
     "text": [
      "Путь существует: /Users/almansurbajdildanov/PycharmProjects/Lab667/LAB7/lab7.2/\n",
      "Читаемый: Да\n",
      "Записываемый: Да\n",
      "Исполняемый: Да\n"
     ]
    }
   ],
   "source": [
    "import os\n",
    "\n",
    "path = \"/Users/almansurbajdildanov/PycharmProjects/Lab667/LAB7/lab7.2/\"\n",
    "\n",
    "\n",
    "if os.path.exists(path):\n",
    "    print(f\"Путь существует: {path}\")\n",
    "\n",
    "    print(f\"Читаемый: {'Да' if os.access(path, os.R_OK) else 'Нет'}\")\n",
    "    print(f\"Записываемый: {'Да' if os.access(path, os.W_OK) else 'Нет'}\")\n",
    "    print(f\"Исполняемый: {'Да' if os.access(path, os.X_OK) else 'Нет'}\")\n",
    "else:\n",
    "    print(f\"Путь не существует: {path}\")\n"
   ]
  },
  {
   "cell_type": "code",
   "execution_count": 24,
   "id": "68fe983f-cd99-4f53-bf24-5e69302ea6a2",
   "metadata": {},
   "outputs": [
    {
     "name": "stdout",
     "output_type": "stream",
     "text": [
      "Путь существует: /Users/almansurbajdildanov/PycharmProjects/Lab667/LAB7/lab7.2\n",
      "Имя файла: lab7.2\n",
      "Папка: /Users/almansurbajdildanov/PycharmProjects/Lab667/LAB7\n"
     ]
    }
   ],
   "source": [
    "import os\n",
    "\n",
    "path = \"/Users/almansurbajdildanov/PycharmProjects/Lab667/LAB7/lab7.2\"  \n",
    "\n",
    "if os.path.exists(path):\n",
    "    print(f\"Путь существует: {path}\")\n",
    "\n",
    "   \n",
    "    filename = os.path.basename(path)\n",
    "    print(f\"Имя файла: {filename}\")\n",
    "\n",
    "   \n",
    "    directory = os.path.dirname(path)\n",
    "    print(f\"Папка: {directory}\")\n",
    "else:\n",
    "    print(\"Путь не существует.\")"
   ]
  },
  {
   "cell_type": "code",
   "execution_count": 26,
   "id": "4f053847-ec77-478d-8cb4-defda3f98141",
   "metadata": {},
   "outputs": [
    {
     "name": "stdout",
     "output_type": "stream",
     "text": [
      "10\n"
     ]
    }
   ],
   "source": [
    "file_path=\"/Users/almansurbajdildanov/PycharmProjects/Lab667/Lab6/forTask4.txt\"\n",
    "with open(file_path,\"r\") as a:\n",
    "    line_counter=len(a.readlines())\n",
    "print(line_counter)"
   ]
  },
  {
   "cell_type": "code",
   "execution_count": 28,
   "id": "33fe147a-3e3a-4386-803d-0627fbf789da",
   "metadata": {},
   "outputs": [],
   "source": [
    "file_path=\"/Users/almansurbajdildanov/PycharmProjects/Lab667/Lab6/forTask5.txt\"\n",
    "array=[\"apple\",\"banana\",\"chery\"]\n",
    "\n",
    "with open(file_path,\"w\") as file:\n",
    "    for item in array:\n",
    "        file.write(item+\" \")"
   ]
  },
  {
   "cell_type": "code",
   "execution_count": 32,
   "id": "4893d991-1ac1-4815-b3a0-073544eed55b",
   "metadata": {},
   "outputs": [
    {
     "name": "stdout",
     "output_type": "stream",
     "text": [
      "Hello\n"
     ]
    }
   ],
   "source": [
    "\"\"\"file_names = [\"A.txt\", \"B.txt\", \"C.txt\", \"D.txt\", \"E.txt\", \"F.txt\", \"G.txt\", \n",
    "              \"H.txt\", \"I.txt\", \"J.txt\", \"K.txt\", \"L.txt\", \"M.txt\", \"N.txt\", \n",
    "              \"O.txt\", \"P.txt\", \"Q.txt\", \"R.txt\", \"S.txt\", \"T.txt\", \"U.txt\", \n",
    "              \"V.txt\", \"W.txt\", \"X.txt\", \"Y.txt\", \"Z.txt\"]\n",
    "\n",
    "for file_name in file_names:\n",
    "    with open(file_name, \"w\") as file:\n",
    "        file.write(f\"This is file {file_name}\\n\")\"\"\"\n",
    "print(\"Hello\")"
   ]
  },
  {
   "cell_type": "code",
   "execution_count": 34,
   "id": "409bbd96-3c1a-43fe-82a8-3bf4a3361e61",
   "metadata": {},
   "outputs": [],
   "source": [
    "file_path=\"/Users/almansurbajdildanov/PycharmProjects/Lab667/Lab6/forTask4.txt\"\n",
    "file_copy=\"/Users/almansurbajdildanov/PycharmProjects/Lab667/Lab6/forTask7.txt\"\n",
    "with open(file_path,\"r\") as file:\n",
    "    content=file.read()\n",
    "    with open(file_copy,\"w\") as copy:\n",
    "        copy.write(content)"
   ]
  },
  {
   "cell_type": "code",
   "execution_count": 36,
   "id": "f3b8a70d-b7e6-4949-8f38-60e583fc9d10",
   "metadata": {},
   "outputs": [
    {
     "name": "stdin",
     "output_type": "stream",
     "text": [
      "Введите путь к файлу:  lol\n"
     ]
    },
    {
     "name": "stdout",
     "output_type": "stream",
     "text": [
      "Файл 'lol' не существует.\n"
     ]
    }
   ],
   "source": [
    "import os\n",
    "\n",
    "file_path = input(\"Введите путь к файлу: \")\n",
    "\n",
    "if not os.path.exists(file_path):\n",
    "    print(f\"Файл '{file_path}' не существует.\")\n",
    "elif not os.access(file_path, os.W_OK):\n",
    "    print(f\"Нет доступа для удаления файла '{file_path}'.\")\n",
    "else:\n",
    "    os.remove(file_path)\n",
    "    print(f\"Файл '{file_path}' успешно удалён.\")\n",
    "    "
   ]
  },
  {
   "cell_type": "code",
   "execution_count": null,
   "id": "8eb6b4c8-f211-4a17-a8db-3fba2a994e41",
   "metadata": {},
   "outputs": [],
   "source": []
  }
 ],
 "metadata": {
  "kernelspec": {
   "display_name": "Python [conda env:base] *",
   "language": "python",
   "name": "conda-base-py"
  },
  "language_info": {
   "codemirror_mode": {
    "name": "ipython",
    "version": 3
   },
   "file_extension": ".py",
   "mimetype": "text/x-python",
   "name": "python",
   "nbconvert_exporter": "python",
   "pygments_lexer": "ipython3",
   "version": "3.12.7"
  }
 },
 "nbformat": 4,
 "nbformat_minor": 5
}
